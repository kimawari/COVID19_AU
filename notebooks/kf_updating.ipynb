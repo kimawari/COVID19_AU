{
 "cells": [
  {
   "cell_type": "markdown",
   "metadata": {},
   "source": [
    "# Kalman filter updating"
   ]
  },
  {
   "cell_type": "code",
   "execution_count": 1,
   "metadata": {},
   "outputs": [],
   "source": [
    "import pandas as pd\n",
    "import os\n",
    "import datetime as dt\n",
    "import numpy as np\n",
    "import matplotlib.pyplot as plt\n",
    "raw_dir = '../Raw_Data/'\n",
    "in_dir = '../In_Data/'\n",
    "out_dir = '../Out_Data/'\n",
    "\n",
    "if not os.path.exists(out_dir):\n",
    "    os.mkdir(out_dir)\n",
    "    \n",
    "plt.rc('xtick', labelsize=10)\n",
    "plt.rc('ytick', labelsize=10)\n",
    "dpi = 200"
   ]
  },
  {
   "cell_type": "code",
   "execution_count": 2,
   "metadata": {},
   "outputs": [],
   "source": [
    "datestart = dt.date(2020, 3, 8)\n",
    "datetoday = dt.date.today() - dt.timedelta(days=0)\n",
    "datemodel = dt.date(2020, 3, 16)\n",
    "dateupdate = dt.date(2020, 3, 13)\n",
    "dateend = dt.date(2020, 3, 31)\n",
    "\n",
    "daystart = (datestart-dt.date(2020, 2, 29)).days\n",
    "daymodel = (datemodel-dt.date(2020, 2, 29)).days\n",
    "dayupdate = (dateupdate-dt.date(2020, 2, 29)).days\n",
    "daytoday = (datetoday-dt.date(2020, 2, 29)).days\n",
    "dayend = (dateend-dt.date(2020, 2, 29)).days\n",
    "\n",
    "datetodaystr = datetoday.strftime('%Y_%m_%d')\n",
    "datemodelstr = datemodel.strftime('%Y_%m_%d')"
   ]
  },
  {
   "cell_type": "code",
   "execution_count": 3,
   "metadata": {},
   "outputs": [],
   "source": [
    "# Read data today.\n",
    "df_today = pd.read_csv(raw_dir + 'data_au_' + datetodaystr + '.csv', \n",
    "                    parse_dates=[0], index_col=[0])\n",
    "\n",
    "df_today_log = df_today.copy()\n",
    "df_today_log[df_today_log<=0] = np.nan\n",
    "df_today_log = df_today_log.apply(lambda x: np.log(x))\n",
    "df_today_log['day'] = (df_today_log.index-dt.datetime(2020,2,29)).days\n"
   ]
  },
  {
   "cell_type": "code",
   "execution_count": 4,
   "metadata": {},
   "outputs": [],
   "source": [
    "# Read model parameters trained on a specific date.\n",
    "model = pd.read_csv(in_dir + 'para_au_' + datemodelstr + '.csv', index_col='state')"
   ]
  },
  {
   "cell_type": "code",
   "execution_count": null,
   "metadata": {},
   "outputs": [],
   "source": []
  },
  {
   "cell_type": "code",
   "execution_count": 5,
   "metadata": {},
   "outputs": [],
   "source": [
    "df_obs = df_today[df_today.day>daymodel]\n",
    "df_obs_log = df_obs.copy()\n",
    "df_obs_log[df_obs_log<=0] = np.nan\n",
    "df_obs_log = df_obs_log.apply(lambda x: np.log(x))\n",
    "df_obs_log['day'] = (df_obs_log.index-dt.datetime(2020,2,29)).days\n"
   ]
  },
  {
   "cell_type": "markdown",
   "metadata": {},
   "source": [
    "### Kalman filter algorithm"
   ]
  },
  {
   "cell_type": "code",
   "execution_count": 6,
   "metadata": {},
   "outputs": [],
   "source": [
    "def run_KF(state_name):\n",
    "    # read model\n",
    "    a, b, r2, rmse = model.loc[state_name, ['a','b', 'r2', 'rmse']]\n",
    "    print(state_name, 'a =', a, 'b=', b)\n",
    "    # Prediction\n",
    "    date_now = datestart\n",
    "    y_init =  a * (daystart-1) + b\n",
    "    R = np.power(rmse, 2)\n",
    "    Q = np.power(rmse, 2)\n",
    "    P = Q\n",
    "    y_a = y_init\n",
    "    ys_a = []\n",
    "    ys_b = []\n",
    "    ys_obs = []\n",
    "    Ps_a = []\n",
    "    Ps_b = []\n",
    "    dates = []\n",
    "    while (date_now < dateend):\n",
    "    # model prediction.\n",
    "        y_b = y_a + a\n",
    "        y_a = y_b\n",
    "        Ps_b.append(P)\n",
    "\n",
    "        # get obs.\n",
    "        if date_now < datetoday:\n",
    "            y_obs = df_today_log.loc[date_now,state_name]\n",
    "        else:\n",
    "            y_obs = np.nan\n",
    "        if date_now > dateupdate:\n",
    "            # analysis.\n",
    "            if y_obs is not np.nan:\n",
    "                # print('state updated on:', date_now)\n",
    "                P = P + Q\n",
    "                K = P/(P + R)\n",
    "                y_a = y_b + K * (y_obs - y_b)\n",
    "                P = (1-K) * P\n",
    "\n",
    "        ys_a.append(y_a)\n",
    "        ys_b.append(y_b)\n",
    "        ys_obs.append(y_obs)\n",
    "        Ps_a.append(P)\n",
    "        dates.append(date_now)\n",
    "        date_now = date_now + dt.timedelta(days=1)\n",
    "\n",
    "    y_err = np.sqrt(Ps_a)\n",
    "    ys_exp_a = np.exp(ys_a)\n",
    "    ys_exp_b = np.exp(ys_b)\n",
    "    ys_exp_obs = np.exp(ys_obs)\n",
    "    ys_exp_err = np.exp(y_err)\n",
    "   \n",
    "    ys_log10_a = np.log10(ys_exp_a)\n",
    "    ys_log10_b = np.log10(ys_exp_b)\n",
    "    ys_log10_obs = np.log10(ys_exp_obs)\n",
    "    ys_log10_err = np.log10(ys_exp_err)\n",
    "\n",
    "    #return dates, ys_exp_a, ys_exp_b, ys_exp_obs, ys_exp_err\n",
    "    #return dates, ys_a, ys_b, ys_obs, y_err\n",
    "    return dates, ys_log10_a, ys_log10_b, ys_log10_obs, ys_log10_err"
   ]
  },
  {
   "cell_type": "code",
   "execution_count": 7,
   "metadata": {},
   "outputs": [
    {
     "name": "stdout",
     "output_type": "stream",
     "text": [
      "Vic a = 0.22505558720327426 b= 0.6665935681009189\n"
     ]
    }
   ],
   "source": [
    "# Test.\n",
    "dates, ya, yb, yobs, yerr = run_KF('Vic')"
   ]
  },
  {
   "cell_type": "markdown",
   "metadata": {},
   "source": [
    "### Open-loop\n",
    "Open-loop is the model forecast without assimiating new observations."
   ]
  },
  {
   "cell_type": "code",
   "execution_count": 8,
   "metadata": {},
   "outputs": [],
   "source": [
    "def run_OL(state_name):\n",
    "    # read model\n",
    "    a, b, r2, rmse = model.loc[state_name, ['a','b', 'r2', 'rmse']]\n",
    "    print(state_name, 'a =', a, 'b=', b)\n",
    "    # Prediction\n",
    "    days = np.arange(daystart, dayend)\n",
    "    ys =  a * days + b\n",
    "    dates = [datestart+dt.timedelta(int(day)) for day in days]\n",
    "    ys_exp = np.exp(ys)\n",
    "    ys_log10 = np.log10(ys_exp)\n",
    "    return days, ys_log10"
   ]
  },
  {
   "cell_type": "code",
   "execution_count": 9,
   "metadata": {},
   "outputs": [
    {
     "name": "stdout",
     "output_type": "stream",
     "text": [
      "Vic a = 0.22505558720327426 b= 0.6665935681009189\n"
     ]
    }
   ],
   "source": [
    "# Test.\n",
    "dates_ol, ys_log10_ol = run_OL('Vic')"
   ]
  },
  {
   "cell_type": "markdown",
   "metadata": {},
   "source": [
    "### Predicting and updating\n",
    "Predict with the linear regression model.  \n",
    "Update by assimilating new observations, using KF algorithm."
   ]
  },
  {
   "cell_type": "code",
   "execution_count": 10,
   "metadata": {
    "scrolled": false
   },
   "outputs": [
    {
     "name": "stdout",
     "output_type": "stream",
     "text": [
      "Total a = 0.19583507428681451 b= 2.7549497289449967\n",
      "Total a = 0.19583507428681451 b= 2.7549497289449967\n",
      "NSW a = 0.17484380354363396 b= 2.2777185126275743\n",
      "NSW a = 0.17484380354363396 b= 2.2777185126275743\n",
      "Qld a = 0.21232062722075876 b= 0.8220050120018517\n",
      "Qld a = 0.21232062722075876 b= 0.8220050120018517\n",
      "Tas a = 0.185212464449698 b= -0.957287102063612\n",
      "Tas a = 0.185212464449698 b= -0.957287102063612\n",
      "Vic a = 0.22505558720327426 b= 0.6665935681009189\n",
      "Vic a = 0.22505558720327426 b= 0.6665935681009189\n",
      "Total a = 0.19583507428681451 b= 2.7549497289449967\n",
      "NSW a = 0.17484380354363396 b= 2.2777185126275743\n",
      "Qld a = 0.21232062722075876 b= 0.8220050120018517\n",
      "Tas a = 0.185212464449698 b= -0.957287102063612\n",
      "Vic a = 0.22505558720327426 b= 0.6665935681009189\n"
     ]
    },
    {
     "name": "stderr",
     "output_type": "stream",
     "text": [
      "D:\\ProgramData\\Anaconda3\\envs\\field_exp_2018\\lib\\site-packages\\matplotlib\\axes\\_axes.py:545: UserWarning: No labelled objects found. Use label='...' kwarg on individual plots.\n",
      "  warnings.warn(\"No labelled objects found. \"\n"
     ]
    },
    {
     "data": {
      "image/png": "[encoded data removed]",
      "text/plain": [
       "<matplotlib.figure.Figure at 0x2d8401bf400>"
      ]
     },
     "metadata": {
      "needs_background": "light"
     },
     "output_type": "display_data"
    }
   ],
   "source": [
    "states = ['Total',  'NSW', 'Qld', 'Tas', 'Vic']\n",
    "color = {'Total': 'k', 'Vic': 'b',  'NSW': 'g',  'Qld': 'y', 'Tas': 'c'}\n",
    "\n",
    "days = [(d-dt.date(2020, 2, 29)).days for d in dates]\n",
    "df_predict = pd.DataFrame({'date':dates, 'days': days})\n",
    "\n",
    "fig = plt.figure(figsize=(8, 5))\n",
    "ax = plt.gca()\n",
    "\n",
    "ax.set_yscale('log')\n",
    "ax.set_ylim(1, np.power(10, 4))\n",
    "ax.set_yticks([1, 10, 100, 1000, 10000])\n",
    "\n",
    "ax2= ax.twinx()\n",
    "ax2.set_ylim(0, 4)\n",
    "ax2.set_yticks([])\n",
    "ax2.set_xticks(np.arange(daystart, dayend))\n",
    "ax2.set_xlim(daystart, dayend)\n",
    "\n",
    "for state in states:\n",
    "    dates, ya, yb, yobs, yerr = run_KF(state)\n",
    "    days_ol, ys_ol = run_OL(state)\n",
    "\n",
    "    df_predict_state = pd.DataFrame({state:np.power(10, yobs), \n",
    "                                     state+'_ol': np.power(10, ys_ol), \n",
    "                                     state+'_est': np.power(10, ya)})\n",
    "    df_predict = pd.concat([df_predict, df_predict_state], axis=1)\n",
    "    \n",
    "    # KF updating.\n",
    "    for i in range (0, len(days)-1):\n",
    "        ax2.errorbar([days[i], days[i+1]], [ya[i], yb[i+1]], \n",
    "                     yerr=[yerr[i], yerr[i+1]], ls='-', lw=1, c=color[state])\n",
    "    ax2.errorbar([-1,1], [-99,-99], yerr=[1,1], ls='-', lw=1, c=color[state], \n",
    "                 label=state+' KF')\n",
    "    \n",
    "    # Observation.\n",
    "    ax2.plot(days, yobs, ls='', marker='x', c=color[state], label=state + ' obs')\n",
    "    \n",
    "df_predict.set_index('date', inplace=True)\n",
    "\n",
    "# Open-loop.\n",
    "for state in states:\n",
    "    days_ol, ys_ol = run_OL(state)\n",
    "    ax2.plot(days_ol, ys_ol, dashes=(0.5, 0.5),lw=0.5, c=color[state], label=state + ' OL')\n",
    "    \n",
    "\n",
    "\n",
    "\n",
    "ax.set_title('COVID-19 cases AU updated on: ' + datetoday.strftime('%d/%m/%Y')\n",
    "             + '\\nhttps://github.com/kimawari/COVID19_AU', fontsize=10)\n",
    "ax.set_xlabel('Day of Mar')\n",
    "ax.set_ylabel('Comfirmed case')\n",
    "ax.legend(loc='upper left')\n",
    "\n",
    "ax.grid(which='major', axis='both', dashes=(0.5,0.5))\n",
    "ax.grid(which='minor', axis='both', dashes=(0.5, 1))\n",
    "ax.tick_params(which='both', direction='in')\n",
    "ax2.tick_params(which='both', direction='in')\n",
    "\n",
    "plt.legend(loc='upper left', fontsize='small', ncol=3, columnspacing=0.5)\n",
    "plt.savefig(out_dir + 'log_kf_au_' + datetodaystr + '.png', dpi=dpi)"
   ]
  },
  {
   "cell_type": "markdown",
   "metadata": {},
   "source": [
    "## Export prediction."
   ]
  },
  {
   "cell_type": "code",
   "execution_count": 11,
   "metadata": {},
   "outputs": [],
   "source": [
    "df_predict_out = df_predict.apply(lambda x: np.round(x), axis=1)\n",
    "df_predict_out.to_csv(out_dir+'kf_predict_' + datetodaystr + '.csv', float_format='%.0f')"
   ]
  },
  {
   "cell_type": "code",
   "execution_count": 12,
   "metadata": {},
   "outputs": [
    {
     "data": {
      "text/html": [
       "<div>\n",
       "<style scoped>\n",
       "    .dataframe tbody tr th:only-of-type {\n",
       "        vertical-align: middle;\n",
       "    }\n",
       "\n",
       "    .dataframe tbody tr th {\n",
       "        vertical-align: top;\n",
       "    }\n",
       "\n",
       "    .dataframe thead th {\n",
       "        text-align: right;\n",
       "    }\n",
       "</style>\n",
       "<table border=\"1\" class=\"dataframe\">\n",
       "  <thead>\n",
       "    <tr style=\"text-align: right;\">\n",
       "      <th></th>\n",
       "      <th>Total</th>\n",
       "      <th>Vic</th>\n",
       "      <th>NSW</th>\n",
       "      <th>Qld</th>\n",
       "      <th>Tas</th>\n",
       "    </tr>\n",
       "    <tr>\n",
       "      <th>date</th>\n",
       "      <th></th>\n",
       "      <th></th>\n",
       "      <th></th>\n",
       "      <th></th>\n",
       "      <th></th>\n",
       "    </tr>\n",
       "  </thead>\n",
       "  <tbody>\n",
       "    <tr>\n",
       "      <th>2020-03-23</th>\n",
       "      <td>1716.0</td>\n",
       "      <td>355.0</td>\n",
       "      <td>704.0</td>\n",
       "      <td>319.0</td>\n",
       "      <td>28.0</td>\n",
       "    </tr>\n",
       "  </tbody>\n",
       "</table>\n",
       "</div>"
      ],
      "text/plain": [
       "             Total    Vic    NSW    Qld   Tas\n",
       "date                                         \n",
       "2020-03-23  1716.0  355.0  704.0  319.0  28.0"
      ]
     },
     "execution_count": 12,
     "metadata": {},
     "output_type": "execute_result"
    }
   ],
   "source": [
    "df_predict_out.loc[[datetoday+dt.timedelta(-1)], ['Total', 'Vic', 'NSW', 'Qld', 'Tas']]"
   ]
  },
  {
   "cell_type": "code",
   "execution_count": 13,
   "metadata": {},
   "outputs": [
    {
     "data": {
      "text/html": [
       "<div>\n",
       "<style scoped>\n",
       "    .dataframe tbody tr th:only-of-type {\n",
       "        vertical-align: middle;\n",
       "    }\n",
       "\n",
       "    .dataframe tbody tr th {\n",
       "        vertical-align: top;\n",
       "    }\n",
       "\n",
       "    .dataframe thead th {\n",
       "        text-align: right;\n",
       "    }\n",
       "</style>\n",
       "<table border=\"1\" class=\"dataframe\">\n",
       "  <thead>\n",
       "    <tr style=\"text-align: right;\">\n",
       "      <th></th>\n",
       "      <th>Total_est</th>\n",
       "      <th>Vic_est</th>\n",
       "      <th>NSW_est</th>\n",
       "      <th>Qld_est</th>\n",
       "      <th>Tas_est</th>\n",
       "    </tr>\n",
       "    <tr>\n",
       "      <th>date</th>\n",
       "      <th></th>\n",
       "      <th></th>\n",
       "      <th></th>\n",
       "      <th></th>\n",
       "      <th></th>\n",
       "    </tr>\n",
       "  </thead>\n",
       "  <tbody>\n",
       "    <tr>\n",
       "      <th>2020-03-24</th>\n",
       "      <td>2040.0</td>\n",
       "      <td>450.0</td>\n",
       "      <td>803.0</td>\n",
       "      <td>398.0</td>\n",
       "      <td>32.0</td>\n",
       "    </tr>\n",
       "    <tr>\n",
       "      <th>2020-03-25</th>\n",
       "      <td>2482.0</td>\n",
       "      <td>563.0</td>\n",
       "      <td>957.0</td>\n",
       "      <td>492.0</td>\n",
       "      <td>39.0</td>\n",
       "    </tr>\n",
       "    <tr>\n",
       "      <th>2020-03-26</th>\n",
       "      <td>3019.0</td>\n",
       "      <td>705.0</td>\n",
       "      <td>1140.0</td>\n",
       "      <td>608.0</td>\n",
       "      <td>46.0</td>\n",
       "    </tr>\n",
       "    <tr>\n",
       "      <th>2020-03-27</th>\n",
       "      <td>3672.0</td>\n",
       "      <td>883.0</td>\n",
       "      <td>1358.0</td>\n",
       "      <td>752.0</td>\n",
       "      <td>56.0</td>\n",
       "    </tr>\n",
       "    <tr>\n",
       "      <th>2020-03-28</th>\n",
       "      <td>4466.0</td>\n",
       "      <td>1106.0</td>\n",
       "      <td>1617.0</td>\n",
       "      <td>930.0</td>\n",
       "      <td>67.0</td>\n",
       "    </tr>\n",
       "    <tr>\n",
       "      <th>2020-03-29</th>\n",
       "      <td>5432.0</td>\n",
       "      <td>1386.0</td>\n",
       "      <td>1926.0</td>\n",
       "      <td>1150.0</td>\n",
       "      <td>81.0</td>\n",
       "    </tr>\n",
       "    <tr>\n",
       "      <th>2020-03-30</th>\n",
       "      <td>6607.0</td>\n",
       "      <td>1735.0</td>\n",
       "      <td>2294.0</td>\n",
       "      <td>1422.0</td>\n",
       "      <td>97.0</td>\n",
       "    </tr>\n",
       "  </tbody>\n",
       "</table>\n",
       "</div>"
      ],
      "text/plain": [
       "            Total_est  Vic_est  NSW_est  Qld_est  Tas_est\n",
       "date                                                     \n",
       "2020-03-24     2040.0    450.0    803.0    398.0     32.0\n",
       "2020-03-25     2482.0    563.0    957.0    492.0     39.0\n",
       "2020-03-26     3019.0    705.0   1140.0    608.0     46.0\n",
       "2020-03-27     3672.0    883.0   1358.0    752.0     56.0\n",
       "2020-03-28     4466.0   1106.0   1617.0    930.0     67.0\n",
       "2020-03-29     5432.0   1386.0   1926.0   1150.0     81.0\n",
       "2020-03-30     6607.0   1735.0   2294.0   1422.0     97.0"
      ]
     },
     "execution_count": 13,
     "metadata": {},
     "output_type": "execute_result"
    }
   ],
   "source": [
    "df_predict_out.loc[datetoday:dateend, ['Total_est', 'Vic_est', 'NSW_est', 'Qld_est', 'Tas_est']]"
   ]
  },
  {
   "cell_type": "code",
   "execution_count": null,
   "metadata": {},
   "outputs": [],
   "source": []
  },
  {
   "cell_type": "code",
   "execution_count": null,
   "metadata": {},
   "outputs": [],
   "source": []
  }
 ],
 "metadata": {
  "kernelspec": {
   "display_name": "Python 3",
   "language": "python",
   "name": "python3"
  },
  "language_info": {
   "codemirror_mode": {
    "name": "ipython",
    "version": 3
   },
   "file_extension": ".py",
   "mimetype": "text/x-python",
   "name": "python",
   "nbconvert_exporter": "python",
   "pygments_lexer": "ipython3",
   "version": "3.6.6"
  }
 },
 "nbformat": 4,
 "nbformat_minor": 2
}
